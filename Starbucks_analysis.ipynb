{
 "cells": [
  {
   "attachments": {
    "starbucks.png": {
     "image/png": "[encoded data removed]"
    }
   },
   "cell_type": "markdown",
   "metadata": {},
   "source": [
    "## <center>DATA ANALYSIS OF STARBUCKS COMPANY</center>\n",
    "![starbucks.png](attachment:starbucks.png)\n",
    "\n",
    "##### Starbucks Corporation is an American multinational chain of coffeehouses and roastery reserves headquartered in Seattle, Washington. As the world's largest coffeehouse chain, Starbucks is seen to be the main representation of the United States' second wave of coffee culture.\n",
    "\n",
    "<p> Dataset below shows information about all the shops of the company all around the world.</p>\n",
    "<p> An analysis was made on the basis of the information contained in the data set.</p>\n",
    "<p> It represtents:</p>\n",
    "<ol>\n",
    "    <li> Ownership type\n",
    "    <li> Percentage of every category of the ownership type \n",
    "    <li> TOP 10 countries with the most of the shops\n",
    "    <li> TOP 5 cities with the most of the shops\n",
    "</ol>\n"
   ]
  },
  {
   "cell_type": "markdown",
   "metadata": {},
   "source": [
    "#### Import libraries"
   ]
  },
  {
   "cell_type": "code",
   "execution_count": 1,
   "metadata": {},
   "outputs": [],
   "source": [
    "# import libraries\n",
    "import pandas as pd\n",
    "from matplotlib import pyplot as plt\n",
    "import numpy as np"
   ]
  },
  {
   "cell_type": "markdown",
   "metadata": {},
   "source": [
    "#### Import the CSV file and print dataframe"
   ]
  },
  {
   "cell_type": "code",
   "execution_count": 2,
   "metadata": {},
   "outputs": [
    {
     "data": {
      "text/html": [
       "<div>\n",
       "<style scoped>\n",
       "    .dataframe tbody tr th:only-of-type {\n",
       "        vertical-align: middle;\n",
       "    }\n",
       "\n",
       "    .dataframe tbody tr th {\n",
       "        vertical-align: top;\n",
       "    }\n",
       "\n",
       "    .dataframe thead th {\n",
       "        text-align: right;\n",
       "    }\n",
       "</style>\n",
       "<table border=\"1\" class=\"dataframe\">\n",
       "  <thead>\n",
       "    <tr style=\"text-align: right;\">\n",
       "      <th></th>\n",
       "      <th>Brand</th>\n",
       "      <th>Store Number</th>\n",
       "      <th>Store Name</th>\n",
       "      <th>Ownership_Type</th>\n",
       "      <th>Street_Address</th>\n",
       "      <th>City</th>\n",
       "      <th>State/Province</th>\n",
       "      <th>Country</th>\n",
       "      <th>Postcode</th>\n",
       "      <th>Phone Number</th>\n",
       "      <th>Timezone</th>\n",
       "      <th>Longitude</th>\n",
       "      <th>Latitude</th>\n",
       "    </tr>\n",
       "  </thead>\n",
       "  <tbody>\n",
       "    <tr>\n",
       "      <th>0</th>\n",
       "      <td>Starbucks</td>\n",
       "      <td>47370-257954</td>\n",
       "      <td>Meritxell, 96</td>\n",
       "      <td>Licensed</td>\n",
       "      <td>Av. Meritxell, 96</td>\n",
       "      <td>Andorra la Vella</td>\n",
       "      <td>7</td>\n",
       "      <td>AD</td>\n",
       "      <td>AD500</td>\n",
       "      <td>376818720</td>\n",
       "      <td>GMT+1:00 Europe/Andorra</td>\n",
       "      <td>1.53</td>\n",
       "      <td>42.51</td>\n",
       "    </tr>\n",
       "    <tr>\n",
       "      <th>1</th>\n",
       "      <td>Starbucks</td>\n",
       "      <td>22331-212325</td>\n",
       "      <td>Ajman Drive Thru</td>\n",
       "      <td>Licensed</td>\n",
       "      <td>1 Street 69, Al Jarf</td>\n",
       "      <td>Ajman</td>\n",
       "      <td>AJ</td>\n",
       "      <td>AE</td>\n",
       "      <td>NaN</td>\n",
       "      <td>NaN</td>\n",
       "      <td>GMT+04:00 Asia/Dubai</td>\n",
       "      <td>55.47</td>\n",
       "      <td>25.42</td>\n",
       "    </tr>\n",
       "    <tr>\n",
       "      <th>2</th>\n",
       "      <td>Starbucks</td>\n",
       "      <td>47089-256771</td>\n",
       "      <td>Dana Mall</td>\n",
       "      <td>Licensed</td>\n",
       "      <td>Sheikh Khalifa Bin Zayed St.</td>\n",
       "      <td>Ajman</td>\n",
       "      <td>AJ</td>\n",
       "      <td>AE</td>\n",
       "      <td>NaN</td>\n",
       "      <td>NaN</td>\n",
       "      <td>GMT+04:00 Asia/Dubai</td>\n",
       "      <td>55.47</td>\n",
       "      <td>25.39</td>\n",
       "    </tr>\n",
       "    <tr>\n",
       "      <th>3</th>\n",
       "      <td>Starbucks</td>\n",
       "      <td>22126-218024</td>\n",
       "      <td>Twofour 54</td>\n",
       "      <td>Licensed</td>\n",
       "      <td>Al Salam Street</td>\n",
       "      <td>Abu Dhabi</td>\n",
       "      <td>AZ</td>\n",
       "      <td>AE</td>\n",
       "      <td>NaN</td>\n",
       "      <td>NaN</td>\n",
       "      <td>GMT+04:00 Asia/Dubai</td>\n",
       "      <td>54.38</td>\n",
       "      <td>24.48</td>\n",
       "    </tr>\n",
       "    <tr>\n",
       "      <th>4</th>\n",
       "      <td>Starbucks</td>\n",
       "      <td>17127-178586</td>\n",
       "      <td>Al Ain Tower</td>\n",
       "      <td>Licensed</td>\n",
       "      <td>Khaldiya Area, Abu Dhabi Island</td>\n",
       "      <td>Abu Dhabi</td>\n",
       "      <td>AZ</td>\n",
       "      <td>AE</td>\n",
       "      <td>NaN</td>\n",
       "      <td>NaN</td>\n",
       "      <td>GMT+04:00 Asia/Dubai</td>\n",
       "      <td>54.54</td>\n",
       "      <td>24.51</td>\n",
       "    </tr>\n",
       "    <tr>\n",
       "      <th>...</th>\n",
       "      <td>...</td>\n",
       "      <td>...</td>\n",
       "      <td>...</td>\n",
       "      <td>...</td>\n",
       "      <td>...</td>\n",
       "      <td>...</td>\n",
       "      <td>...</td>\n",
       "      <td>...</td>\n",
       "      <td>...</td>\n",
       "      <td>...</td>\n",
       "      <td>...</td>\n",
       "      <td>...</td>\n",
       "      <td>...</td>\n",
       "    </tr>\n",
       "    <tr>\n",
       "      <th>25595</th>\n",
       "      <td>Starbucks</td>\n",
       "      <td>21401-212072</td>\n",
       "      <td>Rex</td>\n",
       "      <td>Licensed</td>\n",
       "      <td>141 Nguyễn Huệ, Quận 1, Góc đường Pasteur và L...</td>\n",
       "      <td>Thành Phố Hồ Chí Minh</td>\n",
       "      <td>SG</td>\n",
       "      <td>VN</td>\n",
       "      <td>70000</td>\n",
       "      <td>08 3824 4668</td>\n",
       "      <td>GMT+000000 Asia/Saigon</td>\n",
       "      <td>106.70</td>\n",
       "      <td>10.78</td>\n",
       "    </tr>\n",
       "    <tr>\n",
       "      <th>25596</th>\n",
       "      <td>Starbucks</td>\n",
       "      <td>24010-226985</td>\n",
       "      <td>Panorama</td>\n",
       "      <td>Licensed</td>\n",
       "      <td>SN-44, Tòa Nhà Panorama, 208 Trần Văn Trà, Quận 7</td>\n",
       "      <td>Thành Phố Hồ Chí Minh</td>\n",
       "      <td>SG</td>\n",
       "      <td>VN</td>\n",
       "      <td>70000</td>\n",
       "      <td>08 5413 8292</td>\n",
       "      <td>GMT+000000 Asia/Saigon</td>\n",
       "      <td>106.71</td>\n",
       "      <td>10.72</td>\n",
       "    </tr>\n",
       "    <tr>\n",
       "      <th>25597</th>\n",
       "      <td>Starbucks</td>\n",
       "      <td>47608-253804</td>\n",
       "      <td>Rosebank Mall</td>\n",
       "      <td>Licensed</td>\n",
       "      <td>Cnr Tyrwhitt and Cradock Avenue, Rosebank</td>\n",
       "      <td>Johannesburg</td>\n",
       "      <td>GT</td>\n",
       "      <td>ZA</td>\n",
       "      <td>2194</td>\n",
       "      <td>27873500159</td>\n",
       "      <td>GMT+000000 Africa/Johannesburg</td>\n",
       "      <td>28.04</td>\n",
       "      <td>-26.15</td>\n",
       "    </tr>\n",
       "    <tr>\n",
       "      <th>25598</th>\n",
       "      <td>Starbucks</td>\n",
       "      <td>47640-253809</td>\n",
       "      <td>Menlyn Maine</td>\n",
       "      <td>Licensed</td>\n",
       "      <td>Shop 61B, Central Square, Cnr Aramist &amp; Coroba...</td>\n",
       "      <td>Menlyn</td>\n",
       "      <td>GT</td>\n",
       "      <td>ZA</td>\n",
       "      <td>181</td>\n",
       "      <td>NaN</td>\n",
       "      <td>GMT+000000 Africa/Johannesburg</td>\n",
       "      <td>28.28</td>\n",
       "      <td>-25.79</td>\n",
       "    </tr>\n",
       "    <tr>\n",
       "      <th>25599</th>\n",
       "      <td>Starbucks</td>\n",
       "      <td>47609-253286</td>\n",
       "      <td>Mall of Africa</td>\n",
       "      <td>Licensed</td>\n",
       "      <td>Shop 2077, Upper Level, Waterfall City</td>\n",
       "      <td>Midrand</td>\n",
       "      <td>GT</td>\n",
       "      <td>ZA</td>\n",
       "      <td>1682</td>\n",
       "      <td>27873500215</td>\n",
       "      <td>GMT+000000 Africa/Johannesburg</td>\n",
       "      <td>28.11</td>\n",
       "      <td>-26.02</td>\n",
       "    </tr>\n",
       "  </tbody>\n",
       "</table>\n",
       "<p>25600 rows × 13 columns</p>\n",
       "</div>"
      ],
      "text/plain": [
       "           Brand  Store Number        Store Name Ownership_Type  \\\n",
       "0      Starbucks  47370-257954     Meritxell, 96       Licensed   \n",
       "1      Starbucks  22331-212325  Ajman Drive Thru       Licensed   \n",
       "2      Starbucks  47089-256771         Dana Mall       Licensed   \n",
       "3      Starbucks  22126-218024        Twofour 54       Licensed   \n",
       "4      Starbucks  17127-178586      Al Ain Tower       Licensed   \n",
       "...          ...           ...               ...            ...   \n",
       "25595  Starbucks  21401-212072               Rex       Licensed   \n",
       "25596  Starbucks  24010-226985          Panorama       Licensed   \n",
       "25597  Starbucks  47608-253804     Rosebank Mall       Licensed   \n",
       "25598  Starbucks  47640-253809      Menlyn Maine       Licensed   \n",
       "25599  Starbucks  47609-253286    Mall of Africa       Licensed   \n",
       "\n",
       "                                          Street_Address  \\\n",
       "0                                      Av. Meritxell, 96   \n",
       "1                                   1 Street 69, Al Jarf   \n",
       "2                           Sheikh Khalifa Bin Zayed St.   \n",
       "3                                        Al Salam Street   \n",
       "4                        Khaldiya Area, Abu Dhabi Island   \n",
       "...                                                  ...   \n",
       "25595  141 Nguyễn Huệ, Quận 1, Góc đường Pasteur và L...   \n",
       "25596  SN-44, Tòa Nhà Panorama, 208 Trần Văn Trà, Quận 7   \n",
       "25597          Cnr Tyrwhitt and Cradock Avenue, Rosebank   \n",
       "25598  Shop 61B, Central Square, Cnr Aramist & Coroba...   \n",
       "25599             Shop 2077, Upper Level, Waterfall City   \n",
       "\n",
       "                        City State/Province Country Postcode  Phone Number  \\\n",
       "0           Andorra la Vella              7      AD    AD500     376818720   \n",
       "1                      Ajman             AJ      AE      NaN           NaN   \n",
       "2                      Ajman             AJ      AE      NaN           NaN   \n",
       "3                  Abu Dhabi             AZ      AE      NaN           NaN   \n",
       "4                  Abu Dhabi             AZ      AE      NaN           NaN   \n",
       "...                      ...            ...     ...      ...           ...   \n",
       "25595  Thành Phố Hồ Chí Minh             SG      VN    70000  08 3824 4668   \n",
       "25596  Thành Phố Hồ Chí Minh             SG      VN    70000  08 5413 8292   \n",
       "25597           Johannesburg             GT      ZA     2194   27873500159   \n",
       "25598                 Menlyn             GT      ZA      181           NaN   \n",
       "25599                Midrand             GT      ZA     1682   27873500215   \n",
       "\n",
       "                             Timezone  Longitude  Latitude  \n",
       "0             GMT+1:00 Europe/Andorra       1.53     42.51  \n",
       "1                GMT+04:00 Asia/Dubai      55.47     25.42  \n",
       "2                GMT+04:00 Asia/Dubai      55.47     25.39  \n",
       "3                GMT+04:00 Asia/Dubai      54.38     24.48  \n",
       "4                GMT+04:00 Asia/Dubai      54.54     24.51  \n",
       "...                               ...        ...       ...  \n",
       "25595          GMT+000000 Asia/Saigon     106.70     10.78  \n",
       "25596          GMT+000000 Asia/Saigon     106.71     10.72  \n",
       "25597  GMT+000000 Africa/Johannesburg      28.04    -26.15  \n",
       "25598  GMT+000000 Africa/Johannesburg      28.28    -25.79  \n",
       "25599  GMT+000000 Africa/Johannesburg      28.11    -26.02  \n",
       "\n",
       "[25600 rows x 13 columns]"
      ]
     },
     "execution_count": 2,
     "metadata": {},
     "output_type": "execute_result"
    }
   ],
   "source": [
    "df = pd.read_csv(\"/Users/Hubert/IBAT/Data_for_analysis/Starbucks.csv\")\n",
    "df"
   ]
  },
  {
   "cell_type": "markdown",
   "metadata": {},
   "source": [
    "#### Create list of ownership type and print number of shops of every category using histogram"
   ]
  },
  {
   "cell_type": "code",
   "execution_count": 5,
   "metadata": {},
   "outputs": [
    {
     "data": {
      "text/plain": [
       "Company Owned    11932\n",
       "Licensed          9375\n",
       "Joint Venture     3976\n",
       "Franchise          317\n",
       "Name: Ownership_Type, dtype: int64"
      ]
     },
     "execution_count": 5,
     "metadata": {},
     "output_type": "execute_result"
    }
   ],
   "source": [
    "# Create a list of ownership type of all Starbucks shops\n",
    "df['Ownership_Type'].value_counts()"
   ]
  },
  {
   "cell_type": "code",
   "execution_count": 6,
   "metadata": {},
   "outputs": [
    {
     "data": {
      "image/png": "[encoded data removed]",
      "text/plain": [
       "<Figure size 432x288 with 1 Axes>"
      ]
     },
     "metadata": {
      "needs_background": "light"
     },
     "output_type": "display_data"
    }
   ],
   "source": [
    "plt.hist(df.Ownership_Type, color='g')\n",
    "plt.title('NUMBER OF SHOPS FOR EVERY TYPE OF OWNERSHIP', fontdict={'fontweight':'bold', 'fontsize': 14})\n",
    "\n",
    "plt.xlabel(\"Ownership Type\", fontdict={'fontweight':'bold', 'fontsize': 12})\n",
    "plt.ylabel(\"Number of shops\", fontdict={'fontweight':'bold', 'fontsize': 12})\n",
    "\n",
    "plt.rcParams[\"figure.figsize\"] = (6,4)\n",
    "\n",
    "plt.show()"
   ]
  },
  {
   "cell_type": "code",
   "execution_count": 7,
   "metadata": {},
   "outputs": [],
   "source": [
    "# Create variables to store value for every ownership type and print it using pie chart\n",
    "licensed = df.loc[df['Ownership_Type'] == 'Licensed'].count()[0] \n",
    "venture = df.loc[df['Ownership_Type'] == 'Joint Venture'].count()[0] \n",
    "company = df.loc[df['Ownership_Type'] == 'Company Owned'].count()[0] \n",
    "franchise = df.loc[df['Ownership_Type'] == 'Franchise'].count()[0] \n",
    "\n"
   ]
  },
  {
   "cell_type": "code",
   "execution_count": 8,
   "metadata": {},
   "outputs": [
    {
     "data": {
      "image/png": "[encoded data removed]",
      "text/plain": [
       "<Figure size 432x288 with 1 Axes>"
      ]
     },
     "metadata": {},
     "output_type": "display_data"
    }
   ],
   "source": [
    "# Assign labels and display percentage for every category\n",
    "plt.title('SHARES IN MARKET', fontdict={'fontweight':'bold', 'fontsize': 14})\n",
    "labels = ['Licensed', 'Joint Venture','Company Owned','Franchise']\n",
    "\n",
    "plt.pie([licensed, venture, company, franchise],labels = labels, autopct='%.2f %%')\n",
    "plt.show()"
   ]
  },
  {
   "cell_type": "markdown",
   "metadata": {
    "scrolled": true
   },
   "source": [
    "#### Create a list of all the countries and display 10 of them with the most number of stores"
   ]
  },
  {
   "cell_type": "code",
   "execution_count": 9,
   "metadata": {},
   "outputs": [],
   "source": [
    "# Create a list with all the countries, create variables to store top ten countries with most of stores (countries names and values)\n",
    "\n",
    "number_of_countries = df['Country'].value_counts()\n",
    "top_countries = number_of_countries.head(10)\n",
    "first_ten = number_of_countries.index[0:10]\n"
   ]
  },
  {
   "cell_type": "code",
   "execution_count": 10,
   "metadata": {},
   "outputs": [
    {
     "name": "stdout",
     "output_type": "stream",
     "text": [
      "Index(['US', 'CN', 'CA', 'JP', 'KR', 'GB', 'MX', 'TW', 'TR', 'PH'], dtype='object')\n"
     ]
    }
   ],
   "source": [
    "# Print first 10 countries of the list\n",
    "print(first_ten)"
   ]
  },
  {
   "cell_type": "code",
   "execution_count": 11,
   "metadata": {},
   "outputs": [
    {
     "name": "stdout",
     "output_type": "stream",
     "text": [
      "USA\n",
      "China\n",
      "Canada\n",
      "Japan\n",
      "South Korea\n",
      "Great Britain\n",
      "Mexico\n",
      "Taiwan\n",
      "Turkey\n",
      "Philippines\n"
     ]
    }
   ],
   "source": [
    "# Change x axes names to fullname of countries( to let user easily read from diagram)\n",
    "labels = ['USA','China','Canada','Japan','South Korea','Great Britain','Mexico','Taiwan','Turkey','Philippines']\n",
    "first_ten = labels\n",
    "for country_name in range(len(first_ten)): \n",
    "    print(first_ten[country_name])"
   ]
  },
  {
   "cell_type": "code",
   "execution_count": 12,
   "metadata": {},
   "outputs": [
    {
     "data": {
      "text/plain": [
       "'351'"
      ]
     },
     "execution_count": 12,
     "metadata": {},
     "output_type": "execute_result"
    }
   ],
   "source": [
    "# Import mean function to calculate average of shops per country and round it to whole number\n",
    "\n",
    "from statistics import mean\n",
    "average_per_country = mean(number_of_countries)\n",
    "round_number = \"{:.0f}\".format(average_per_country)\n",
    "round_number\n"
   ]
  },
  {
   "cell_type": "code",
   "execution_count": 50,
   "metadata": {},
   "outputs": [
    {
     "data": {
      "image/png": "[encoded data removed]",
      "text/plain": [
       "<Figure size 1008x432 with 1 Axes>"
      ]
     },
     "metadata": {
      "needs_background": "light"
     },
     "output_type": "display_data"
    }
   ],
   "source": [
    "# Display plot of 10 top countries, set figure size, set marker view and size\n",
    "\n",
    "plt.title('TOP 10 COUNTRIES WITH THE MOST STORES', fontdict={'fontweight':'bold', 'fontsize': 14})\n",
    "plt.xlabel('Countries', fontdict={'fontweight':'bold', 'fontsize': 12})\n",
    "plt.ylabel('Number of shops', fontdict={'fontweight':'bold', 'fontsize': 12})\n",
    "\n",
    "plt.plot(first_ten, top_countries,  marker='.', markersize=10, markeredgecolor= 'red')\n",
    "\n",
    "plt.rcParams[\"figure.figsize\"] = (14,6)\n",
    "\n",
    "plt.show()"
   ]
  },
  {
   "cell_type": "markdown",
   "metadata": {},
   "source": [
    "#### Create a list of all the cities and display 5 of them with the most number of stores"
   ]
  },
  {
   "cell_type": "code",
   "execution_count": 14,
   "metadata": {},
   "outputs": [],
   "source": [
    "# Create a list with all the cities, create variables to store top five cities with most of stores (cities names and values)\n",
    "\n",
    "number_of_cities = df['City'].value_counts()\n",
    "top_city = number_of_cities.head(5)\n",
    "first_five = number_of_cities.index[0:5]"
   ]
  },
  {
   "cell_type": "code",
   "execution_count": 15,
   "metadata": {},
   "outputs": [
    {
     "data": {
      "text/plain": [
       "Index(['上海市', 'Seoul', '北京市', 'New York', 'London'], dtype='object')"
      ]
     },
     "execution_count": 15,
     "metadata": {},
     "output_type": "execute_result"
    }
   ],
   "source": [
    "# Print first five cities of the list\n",
    "first_five"
   ]
  },
  {
   "cell_type": "code",
   "execution_count": 16,
   "metadata": {},
   "outputs": [],
   "source": [
    "# Create labels with full names of the cities\n",
    "labels = ['Shanghai','Seul','Beijing','New York','London']"
   ]
  },
  {
   "cell_type": "code",
   "execution_count": 17,
   "metadata": {},
   "outputs": [
    {
     "name": "stdout",
     "output_type": "stream",
     "text": [
      "Shanghai\n",
      "Seul\n",
      "Beijing\n",
      "New York\n",
      "London\n"
     ]
    }
   ],
   "source": [
    "# Change x axes names to fullname of countries( to let user easily read from diagram)\n",
    "number_of_cities = labels\n",
    "for city_name in range(len(labels)): \n",
    "    print(labels[city_name])"
   ]
  },
  {
   "cell_type": "code",
   "execution_count": 19,
   "metadata": {},
   "outputs": [],
   "source": [
    "number_of_cities = df['City'].value_counts()"
   ]
  },
  {
   "cell_type": "code",
   "execution_count": 21,
   "metadata": {},
   "outputs": [
    {
     "data": {
      "text/plain": [
       "'4.7'"
      ]
     },
     "execution_count": 21,
     "metadata": {},
     "output_type": "execute_result"
    }
   ],
   "source": [
    "# Import mean function to calculate average of shops per city and round it to one decimal place \n",
    "\n",
    "from statistics import mean\n",
    "average_per_city = mean(number_of_cities)\n",
    "average_per_city\n",
    "round_number = \"{:.0f}\".format(average_per_city)\n",
    "round_number"
   ]
  },
  {
   "cell_type": "code",
   "execution_count": 22,
   "metadata": {},
   "outputs": [
    {
     "data": {
      "image/png": "[encoded data removed]",
      "text/plain": [
       "<Figure size 1008x432 with 1 Axes>"
      ]
     },
     "metadata": {
      "needs_background": "light"
     },
     "output_type": "display_data"
    },
    {
     "data": {
      "text/plain": [
       "<Figure size 864x576 with 0 Axes>"
      ]
     },
     "metadata": {},
     "output_type": "display_data"
    }
   ],
   "source": [
    "# Display plot of 5 top cities, set figure size, set culumn pattern\n",
    "\n",
    "plt.title('TOP 5 CITIES WITH THE MOST STORES', fontdict={'fontweight':'bold', 'fontsize': 14})\n",
    "plt.xlabel('Cities', fontdict={'fontweight':'bold', 'fontsize': 12})\n",
    "plt.ylabel('Number of shops', fontdict={'fontweight':'bold', 'fontsize': 12})\n",
    "\n",
    "plt.plot(labels, top_city,  marker='.', markersize=10, markeredgecolor= 'red')\n",
    "\n",
    "plt.figure(figsize=(12,8))\n",
    "\n",
    "plt.show()"
   ]
  },
  {
   "cell_type": "code",
   "execution_count": null,
   "metadata": {},
   "outputs": [],
   "source": []
  }
 ],
 "metadata": {
  "kernelspec": {
   "display_name": "Python 3",
   "language": "python",
   "name": "python3"
  },
  "language_info": {
   "codemirror_mode": {
    "name": "ipython",
    "version": 3
   },
   "file_extension": ".py",
   "mimetype": "text/x-python",
   "name": "python",
   "nbconvert_exporter": "python",
   "pygments_lexer": "ipython3",
   "version": "3.8.3"
  }
 },
 "nbformat": 4,
 "nbformat_minor": 4
}
